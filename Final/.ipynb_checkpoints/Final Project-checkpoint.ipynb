{
 "cells": [
  {
   "cell_type": "markdown",
   "id": "069d9d39",
   "metadata": {},
   "source": [
    "# Template matching algorithm parallelization\n",
    "\n",
    "## Nazarova Elena"
   ]
  },
  {
   "cell_type": "code",
   "execution_count": 19,
   "id": "d7bbf54e",
   "metadata": {},
   "outputs": [],
   "source": [
    "import cv2\n",
    "import matplotlib.pyplot as plt\n",
    "\n",
    "images = ['data/all.jpg', 'data/black_blue_green.jpg', 'data/black_red_yellow.jpg', 'data/red_green_blue.jpg', \n",
    "         'data/red_green_blue_inaccurate.jpg']\n",
    "\n",
    "\n",
    "img = cv2.imread(images[0])\n",
    "img_gray = cv2.cvtColor(img, cv2.COLOR_BGR2GRAY)\n",
    "\n",
    "pattern = cv2.cvtColor((cv2.imread(images[0]))[1195:1247, 1652:1705], cv2.COLOR_BGR2GRAY)\n",
    "sh = pattern.shape[0]//2\n",
    "all_patterns = [pattern, pattern[:sh, :], pattern[sh:, :], pattern[:, sh:], pattern[:, :sh],\n",
    "               pattern[:sh+5, :sh+5], pattern[:sh+5, sh-5:], pattern[sh-5:, sh-5:], pattern[sh-5:, :sh+5]]"
   ]
  },
  {
   "cell_type": "code",
   "execution_count": 20,
   "id": "03d5a44d",
   "metadata": {},
   "outputs": [],
   "source": [
    "def convolve_same(image, kernel, normed=True):\n",
    "    # pad image before convolution to obtain same resulting shape\n",
    "    delta = np.array(kernel.shape) - 1\n",
    "    # left and right padding\n",
    "    left = delta // 2\n",
    "    right = delta - left\n",
    "    padding = np.array([left, right]).T\n",
    "\n",
    "    image = np.pad(image, padding, mode='constant') \n",
    "    return convolve(image, kernel, normed=normed)"
   ]
  },
  {
   "cell_type": "code",
   "execution_count": null,
   "id": "16953ece",
   "metadata": {},
   "outputs": [],
   "source": [
    "convolve_same()"
   ]
  },
  {
   "cell_type": "code",
   "execution_count": null,
   "id": "34ae94d5",
   "metadata": {},
   "outputs": [],
   "source": []
  },
  {
   "cell_type": "code",
   "execution_count": null,
   "id": "cc9f0146",
   "metadata": {},
   "outputs": [],
   "source": []
  },
  {
   "cell_type": "code",
   "execution_count": null,
   "id": "d15d125d",
   "metadata": {},
   "outputs": [],
   "source": []
  },
  {
   "cell_type": "code",
   "execution_count": null,
   "id": "a74d59c8",
   "metadata": {},
   "outputs": [],
   "source": []
  },
  {
   "cell_type": "code",
   "execution_count": null,
   "id": "5b384421",
   "metadata": {},
   "outputs": [],
   "source": []
  }
 ],
 "metadata": {
  "kernelspec": {
   "display_name": "Python 3",
   "language": "python",
   "name": "python3"
  },
  "language_info": {
   "codemirror_mode": {
    "name": "ipython",
    "version": 3
   },
   "file_extension": ".py",
   "mimetype": "text/x-python",
   "name": "python",
   "nbconvert_exporter": "python",
   "pygments_lexer": "ipython3",
   "version": "3.6.9"
  }
 },
 "nbformat": 4,
 "nbformat_minor": 5
}
