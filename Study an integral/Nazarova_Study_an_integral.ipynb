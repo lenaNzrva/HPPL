{
 "cells": [
  {
   "cell_type": "markdown",
   "id": "c54a7921",
   "metadata": {},
   "source": [
    "# 1. Compute the value analytically"
   ]
  },
  {
   "cell_type": "code",
   "execution_count": 1,
   "id": "23628d8f",
   "metadata": {},
   "outputs": [
    {
     "name": "stdout",
     "output_type": "stream",
     "text": [
      "Analytical: 0.33592938478094814\n"
     ]
    }
   ],
   "source": [
    "import math\n",
    "import numpy as np\n",
    "import matplotlib.pyplot as plt\n",
    "\n",
    "def integral(a,b):\n",
    "    return math.log(abs(b + math.sqrt(1 + b**2))) - math.log(abs(a + math.sqrt(1+a**2)))\n",
    "\n",
    "a = 15\n",
    "b = 21\n",
    "\n",
    "S = integral(a,b)\n",
    "print(f\"Analytical: {S}\")"
   ]
  },
  {
   "cell_type": "markdown",
   "id": "c64adaf7",
   "metadata": {},
   "source": [
    "# 2. Compute the integral using trapezoidal rule"
   ]
  },
  {
   "cell_type": "code",
   "execution_count": 2,
   "id": "0f31e6a0",
   "metadata": {},
   "outputs": [
    {
     "name": "stdout",
     "output_type": "stream",
     "text": [
      "Overwriting Sequential.py\n"
     ]
    }
   ],
   "source": [
    "%%writefile Sequential.py\n",
    "# Write as py cause without it time it show speedup for each loop (or k in range(N-1))\n",
    "\n",
    "import math\n",
    "import numpy as np\n",
    "import matplotlib.pyplot as plt\n",
    "\n",
    "def trapezia(a,b):\n",
    "    N = 1000\n",
    "    h = (b-a)/N\n",
    "    S0 = (1/math.sqrt(1 + a**2) + 1/math.sqrt(1 + b**2))*h/2\n",
    "    S1 = 0\n",
    "    for k in range(N-1):\n",
    "        x = a + k*h\n",
    "        S1 += 1/math.sqrt(1 + x**2)\n",
    "    return S0 + h*S1\n",
    "\n",
    "a = 15\n",
    "b = 21\n",
    "S = trapezia(a,b)\n",
    "# print(f'Trapezoidal rule: {S}')"
   ]
  },
  {
   "cell_type": "code",
   "execution_count": 3,
   "id": "e90f8d8c",
   "metadata": {},
   "outputs": [
    {
     "name": "stdout",
     "output_type": "stream",
     "text": [
      "920 ms ± 12.5 ms per loop (mean ± std. dev. of 7 runs, 1 loop each)\n"
     ]
    }
   ],
   "source": [
    "%timeit !mpirun --allow-run-as-root -np 1 python3 Sequential.py"
   ]
  },
  {
   "cell_type": "markdown",
   "id": "7577da3b",
   "metadata": {},
   "source": [
    "# 3. Parallelize using MPI. You should be able to choose any number of MPI processes regardless of the number of discretization points"
   ]
  },
  {
   "cell_type": "code",
   "execution_count": 4,
   "id": "5cf2e863",
   "metadata": {},
   "outputs": [
    {
     "name": "stdout",
     "output_type": "stream",
     "text": [
      "Overwriting Nazarova_Study_an_integral.py\n"
     ]
    }
   ],
   "source": [
    "%%writefile Nazarova_Study_an_integral.py\n",
    "\n",
    "from mpi4py import MPI\n",
    "import numpy as np\n",
    "import math\n",
    "\n",
    "#Initialization\n",
    "comm = MPI.COMM_WORLD\n",
    "rank = comm.Get_rank()\n",
    "size = comm.Get_size()\n",
    "\n",
    "def func(x):\n",
    "    return 1/math.sqrt(1 + x**2)\n",
    "\n",
    "a = 15\n",
    "b = 21\n",
    "\n",
    "N = 1000\n",
    "h = (b-a)/N\n",
    "S1 = 0\n",
    "\n",
    "N_loc = math.ceil(N/size)\n",
    "a_loc = rank*N_loc\n",
    "\n",
    "#Main part\n",
    "if rank != size-1:\n",
    "    b_loc = (rank+1)*N_loc\n",
    "else:\n",
    "    b_loc = N-1\n",
    "\n",
    "for k in range(a_loc,b_loc):\n",
    "    x = a + k*h\n",
    "    S1 += func(x)\n",
    "\n",
    "S1 = comm.reduce(S1, op = MPI.SUM, root = 0)\n",
    "\n",
    "if rank == 0:\n",
    "    S0 = (func(a) + func(b))*h/2\n",
    "    S = S0 + h*S1"
   ]
  },
  {
   "cell_type": "code",
   "execution_count": 5,
   "id": "b45516c7",
   "metadata": {},
   "outputs": [
    {
     "name": "stdout",
     "output_type": "stream",
     "text": [
      "985 ms ± 119 ms per loop (mean ± std. dev. of 7 runs, 1 loop each)\n"
     ]
    }
   ],
   "source": [
    "%timeit !mpirun --allow-run-as-root -np 8 python3 Nazarova_Study_an_integral.py"
   ]
  },
  {
   "cell_type": "markdown",
   "id": "1ef0414b",
   "metadata": {},
   "source": [
    "# 4. Plot the speedup vs number of processors"
   ]
  },
  {
   "cell_type": "code",
   "execution_count": 6,
   "id": "401c238d",
   "metadata": {},
   "outputs": [
    {
     "data": {
      "text/plain": [
       "Text(0, 0.5, 'speedup, ms')"
      ]
     },
     "execution_count": 6,
     "metadata": {},
     "output_type": "execute_result"
    },
    {
     "data": {
      "image/png": "[encoded data removed]",
      "text/plain": [
       "<Figure size 504x360 with 1 Axes>"
      ]
     },
     "metadata": {
      "needs_background": "light"
     },
     "output_type": "display_data"
    }
   ],
   "source": [
    "n_of_processors = [1,2,3,4,5,6,7,8]\n",
    "speedup = [904, 529, 604, 678, 758, 796, 808, 867] #ms\n",
    "\n",
    "fig = plt.figure(figsize=(7, 5))    \n",
    "plt.plot(n_of_processors, speedup,color='orange')\n",
    "plt.grid()\n",
    "plt.title('Speedup vs Number of Processors')\n",
    "plt.xlabel('Number of Processors')\n",
    "plt.ylabel('speedup, ms')"
   ]
  },
  {
   "cell_type": "markdown",
   "id": "3dd77f34",
   "metadata": {},
   "source": [
    "# 5. Plot integration error vs the discretization size"
   ]
  },
  {
   "cell_type": "code",
   "execution_count": 7,
   "id": "d1143a14",
   "metadata": {},
   "outputs": [],
   "source": [
    "def trapezia(a,b,N):\n",
    "    h = (b-a)/N\n",
    "    S0 = (1/math.sqrt(1 + a**2) + 1/math.sqrt(1 + b**2))*h/2\n",
    "    S1 = 0\n",
    "    for k in range(N-1):\n",
    "        x = a + k*h\n",
    "        S1 += 1/math.sqrt(1 + x**2)\n",
    "    return S0 + h*S1"
   ]
  },
  {
   "cell_type": "code",
   "execution_count": 8,
   "id": "c148f357",
   "metadata": {},
   "outputs": [
    {
     "data": {
      "text/plain": [
       "Text(0, 0.5, 'Error')"
      ]
     },
     "execution_count": 8,
     "metadata": {},
     "output_type": "execute_result"
    },
    {
     "data": {
      "image/png": "[encoded data removed]",
      "text/plain": [
       "<Figure size 504x360 with 1 Axes>"
      ]
     },
     "metadata": {
      "needs_background": "light"
     },
     "output_type": "display_data"
    }
   ],
   "source": [
    "errors = []\n",
    "N = np.arange(2,1000)\n",
    "\n",
    "for n in N:\n",
    "    errors.append(trapezia(a,b,n) - integral(5,7))\n",
    "\n",
    "fig = plt.figure(figsize=(7, 5))    \n",
    "plt.plot(N, errors,color='orange')\n",
    "plt.grid()\n",
    "plt.title('Error value vs discretization size')\n",
    "plt.xlabel('Discretization')\n",
    "plt.ylabel('Error')"
   ]
  },
  {
   "cell_type": "code",
   "execution_count": null,
   "id": "0d226daa",
   "metadata": {},
   "outputs": [],
   "source": []
  }
 ],
 "metadata": {
  "kernelspec": {
   "display_name": "Python 3",
   "language": "python",
   "name": "python3"
  },
  "language_info": {
   "codemirror_mode": {
    "name": "ipython",
    "version": 3
   },
   "file_extension": ".py",
   "mimetype": "text/x-python",
   "name": "python",
   "nbconvert_exporter": "python",
   "pygments_lexer": "ipython3",
   "version": "3.6.9"
  }
 },
 "nbformat": 4,
 "nbformat_minor": 5
}
